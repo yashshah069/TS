{
 "cells": [
  {
   "cell_type": "code",
   "execution_count": null,
   "id": "e3dcb1e5",
   "metadata": {},
   "outputs": [],
   "source": [
    "import pandas as pd\n",
    "import numpy as np\n",
    "import matplotlib.pyplot as plt"
   ]
  },
  {
   "cell_type": "code",
   "execution_count": null,
   "id": "e2f2bc8e",
   "metadata": {},
   "outputs": [],
   "source": [
    "# Sample data (replace with your actual dataset)\n",
    "data = {\n",
    " 'Date': pd.date_range(start='2023-01-01', periods=100),\n",
    " 'Value': np.random.rand(100) * 100 # Random values for demonstration\n",
    "}\n",
    "df = pd.DataFrame(data)"
   ]
  },
  {
   "cell_type": "code",
   "execution_count": null,
   "id": "1dedf0ad",
   "metadata": {},
   "outputs": [],
   "source": [
    "def moving_average(data, window_size):\n",
    "    data['Value'].rolling(window=window_size, min_periods=1).mean()\n",
    "    return pd.DataFrame({'Date': data['Date'], 'Moving Average': ma})"
   ]
  },
  {
   "cell_type": "code",
   "execution_count": null,
   "id": "4eec94bb",
   "metadata": {},
   "outputs": [],
   "source": [
    "window_size = 7 # Example: 7-day moving average"
   ]
  },
  {
   "cell_type": "code",
   "execution_count": null,
   "id": "ba68ba0f",
   "metadata": {},
   "outputs": [],
   "source": [
    "# Calculate moving average\n",
    "df_ma = moving_average(df, window_size)"
   ]
  },
  {
   "cell_type": "code",
   "execution_count": null,
   "id": "23693320",
   "metadata": {},
   "outputs": [],
   "source": [
    "# Plotting\n",
    "plt.figure(figsize=(12, 6))\n",
    "plt.plot(df, label='Original Data', marker='o')\n",
    "plt.plot(df_ma, color='red', label=f'{window_size}-day Moving Average')\n",
    "plt.xlabel('Date')\n",
    "plt.ylabel('Value')\n",
    "plt.title('Trend Fitting using Moving Average Method')\n",
    "plt.legend()\n",
    "plt.grid(True)\n",
    "plt.show()"
   ]
  }
 ],
 "metadata": {
  "kernelspec": {
   "display_name": "Python 3 (ipykernel)",
   "language": "python",
   "name": "python3"
  },
  "language_info": {
   "codemirror_mode": {
    "name": "ipython",
    "version": 3
   },
   "file_extension": ".py",
   "mimetype": "text/x-python",
   "name": "python",
   "nbconvert_exporter": "python",
   "pygments_lexer": "ipython3",
   "version": "3.11.5"
  }
 },
 "nbformat": 4,
 "nbformat_minor": 5
}
