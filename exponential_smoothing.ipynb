{
 "cells": [
  {
   "cell_type": "code",
   "execution_count": 2,
   "id": "b2486a17",
   "metadata": {},
   "outputs": [],
   "source": [
    "import pandas as pd\n",
    "from statsmodels.tsa.api import SimpleExpSmoothing, Holt\n",
    "import matplotlib.pyplot as plt"
   ]
  },
  {
   "cell_type": "code",
   "execution_count": 5,
   "id": "c6e77ef9",
   "metadata": {},
   "outputs": [],
   "source": [
    "# Example oil production data\n",
    "data = [446.655, 454.473, 455.663, 423.632, 456.271, 440.588, 425.332, 485.149, 456.842, 525.318, 506.328, 525.304]\n",
    "index = pd.date_range(start=\"1996\", end=\"2008\", freq=\"Y\")\n",
    "oildata = pd.Series(data, index)"
   ]
  },
  {
   "cell_type": "code",
   "execution_count": 6,
   "id": "a45366c8",
   "metadata": {},
   "outputs": [
    {
     "data": {
      "text/plain": [
       "<statsmodels.tsa.holtwinters.results.HoltWintersResultsWrapper at 0x2a037cdd8d0>"
      ]
     },
     "execution_count": 6,
     "metadata": {},
     "output_type": "execute_result"
    }
   ],
   "source": [
    "# Fit the SES model\n",
    "model = SimpleExpSmoothing(oildata).fit(smoothing_level=0.2, optimized=False)\n",
    "model"
   ]
  },
  {
   "cell_type": "code",
   "execution_count": 12,
   "id": "7563d997",
   "metadata": {},
   "outputs": [
    {
     "name": "stderr",
     "output_type": "stream",
     "text": [
      "C:\\Users\\yashs\\AppData\\Local\\Temp\\ipykernel_21672\\2971567619.py:2: FutureWarning: the 'smoothing_slope' keyword is deprecated, use 'smoothing_trend' instead.\n",
      "  model_holt = Holt(oildata).fit(smoothing_level=0.6, smoothing_slope=0.2, optimized=False)\n"
     ]
    },
    {
     "data": {
      "text/plain": [
       "<statsmodels.tsa.holtwinters.results.HoltWintersResultsWrapper at 0x2a039d9aa90>"
      ]
     },
     "execution_count": 12,
     "metadata": {},
     "output_type": "execute_result"
    }
   ],
   "source": [
    "# Fit Holt's model\n",
    "model_holt = Holt(oildata).fit(smoothing_level=0.6, smoothing_slope=0.2, optimized=False)\n",
    "model_holt"
   ]
  },
  {
   "cell_type": "code",
   "execution_count": 11,
   "id": "c78458be",
   "metadata": {},
   "outputs": [
    {
     "data": {
      "text/plain": [
       "2008-12-31    533.545053\n",
       "2009-12-31    544.415583\n",
       "2010-12-31    555.286113\n",
       "Freq: A-DEC, dtype: float64"
      ]
     },
     "execution_count": 11,
     "metadata": {},
     "output_type": "execute_result"
    }
   ],
   "source": [
    "# Forecast 3 steps ahead\n",
    "forecast_ses = model.forecast(steps=3)\n",
    "forecast_holt = model_holt.forecast(steps=3)\n",
    "forecast_ses \n",
    "forecast_holt"
   ]
  }
 ],
 "metadata": {
  "kernelspec": {
   "display_name": "Python 3 (ipykernel)",
   "language": "python",
   "name": "python3"
  },
  "language_info": {
   "codemirror_mode": {
    "name": "ipython",
    "version": 3
   },
   "file_extension": ".py",
   "mimetype": "text/x-python",
   "name": "python",
   "nbconvert_exporter": "python",
   "pygments_lexer": "ipython3",
   "version": "3.11.5"
  }
 },
 "nbformat": 4,
 "nbformat_minor": 5
}
