{
 "cells": [
  {
   "cell_type": "code",
   "execution_count": 1,
   "id": "608d583c",
   "metadata": {},
   "outputs": [],
   "source": [
    "import pandas as pd\n",
    "import numpy as np\n",
    "from scipy.optimize import curve_fit\n",
    "import matplotlib.pyplot as plt"
   ]
  },
  {
   "cell_type": "code",
   "execution_count": null,
   "id": "a6a0e26e",
   "metadata": {},
   "outputs": [],
   "source": [
    "# Read the data into a DataFrame\n",
    "df = pd.read_csv(\"Gold.csv\", parse_dates=['Date'])"
   ]
  },
  {
   "cell_type": "code",
   "execution_count": null,
   "id": "84a388b7",
   "metadata": {},
   "outputs": [],
   "source": [
    "# Convert the Date column to datetime format and create a numerical representation\n",
    "df['Days'] = (df['Date'] - df['Date'].min()).dt.days"
   ]
  },
  {
   "cell_type": "code",
   "execution_count": null,
   "id": "73e9451d",
   "metadata": {},
   "outputs": [],
   "source": [
    "# Extract the days and values for fitting\n",
    "x = df['Days'].values\n",
    "y = df['Value'].values"
   ]
  },
  {
   "cell_type": "code",
   "execution_count": null,
   "id": "bdbab7ee",
   "metadata": {},
   "outputs": [],
   "source": [
    "# Define the logistic function\n",
    "def logistic(x, L, k, x_0):\n",
    "    return L / (1 + np.exp(-k * (x - x_0)))"
   ]
  },
  {
   "cell_type": "code",
   "execution_count": null,
   "id": "c2dad99f",
   "metadata": {},
   "outputs": [],
   "source": [
    "# Fit the curve\n",
    "params, _ = curve_fit(logistic, x, y, p0=[max(y), 1, np.median(x)], maxfev=10000)"
   ]
  },
  {
   "cell_type": "code",
   "execution_count": null,
   "id": "db774bf1",
   "metadata": {},
   "outputs": [],
   "source": [
    "# Extract the parameters\n",
    "L, k, x_0 = params\n",
    "print(f\"Fitted parameters: L = {L}, k = {k}, x_0 = {x_0}\")"
   ]
  },
  {
   "cell_type": "code",
   "execution_count": null,
   "id": "47beb1d6",
   "metadata": {},
   "outputs": [],
   "source": [
    "# Generate x values for the fitted curve\n",
    "x_fit = np.linspace(x.min(), x.max(), 1000)\n",
    "y_fit = logistic(x_fit, L, k, x_0)"
   ]
  },
  {
   "cell_type": "code",
   "execution_count": null,
   "id": "9b2cfd62",
   "metadata": {},
   "outputs": [],
   "source": [
    "# Plot the original data and the fitted curve\n",
    "plt.figure(figsize=(10, 6))\n",
    "plt.scatter(df['Date'], y, label='Original Data')\n",
    "plt.plot(np.array(df['Date'].min() + pd.to_timedelta(x_fit, unit='D')), y_fit, color='red', label='Fitted\n",
    "Logistic Curve')\n",
    "plt.xlabel('Date')\n",
    "plt.ylabel('Gold Price')\n",
    "plt.title('Gold Prices with Logistic Curve Fit')\n",
    "plt.legend()\n",
    "plt.show()"
   ]
  },
  {
   "cell_type": "code",
   "execution_count": null,
   "id": "61b031f7",
   "metadata": {},
   "outputs": [],
   "source": []
  }
 ],
 "metadata": {
  "kernelspec": {
   "display_name": "Python 3 (ipykernel)",
   "language": "python",
   "name": "python3"
  },
  "language_info": {
   "codemirror_mode": {
    "name": "ipython",
    "version": 3
   },
   "file_extension": ".py",
   "mimetype": "text/x-python",
   "name": "python",
   "nbconvert_exporter": "python",
   "pygments_lexer": "ipython3",
   "version": "3.11.5"
  }
 },
 "nbformat": 4,
 "nbformat_minor": 5
}
