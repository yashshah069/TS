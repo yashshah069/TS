{
 "cells": [
  {
   "cell_type": "code",
   "execution_count": 1,
   "id": "b873edce",
   "metadata": {},
   "outputs": [],
   "source": [
    "import pandas as pd\n",
    "import numpy as np\n",
    "from scipy.optimize import curve_fit\n",
    "import matplotlib.pyplot as plt"
   ]
  },
  {
   "cell_type": "code",
   "execution_count": 3,
   "id": "535ce69f",
   "metadata": {},
   "outputs": [],
   "source": [
    "# Read the data into a DataFrame\n",
    "df = pd.read_csv(\"Downloads/Gold.csv\", parse_dates=['Date'])"
   ]
  },
  {
   "cell_type": "code",
   "execution_count": 4,
   "id": "ce713990",
   "metadata": {},
   "outputs": [],
   "source": [
    "# Convert the Date column to datetime format and create a numerical representation\n",
    "df['Days'] = (df['Date'] - df['Date'].min()).dt.days\n",
    "# Extract the days and values for fitting\n",
    "x = df['Days'].values\n",
    "y = df['Value'].values"
   ]
  },
  {
   "cell_type": "code",
   "execution_count": 5,
   "id": "08e5605d",
   "metadata": {},
   "outputs": [],
   "source": [
    "# Scale the data\n",
    "x_scaled = x / max(x)\n",
    "y_scaled = y / max(y)"
   ]
  },
  {
   "cell_type": "code",
   "execution_count": 6,
   "id": "0d688610",
   "metadata": {},
   "outputs": [],
   "source": [
    "# Define the Gompertz function\n",
    "def gompertz(x, a, b, c):\n",
    "    return a * np.exp(-b * np.exp(-c * x))"
   ]
  },
  {
   "cell_type": "code",
   "execution_count": 8,
   "id": "ae963077",
   "metadata": {},
   "outputs": [
    {
     "ename": "SyntaxError",
     "evalue": "invalid non-printable character U+00A0 (1125882077.py, line 5)",
     "output_type": "error",
     "traceback": [
      "\u001b[1;36m  Cell \u001b[1;32mIn[8], line 5\u001b[1;36m\u001b[0m\n\u001b[1;33m    param_bounds = ([0, 0, 0], [np.inf, np.inf, np.inf])\u001b[0m\n\u001b[1;37m                                               ^\u001b[0m\n\u001b[1;31mSyntaxError\u001b[0m\u001b[1;31m:\u001b[0m invalid non-printable character U+00A0\n"
     ]
    }
   ],
   "source": [
    "\n",
    "params, _ = curve_fit(gompertz, x_scaled, y_scaled, p0=[1, 1, 1], maxfev=100000)"
   ]
  },
  {
   "cell_type": "code",
   "execution_count": null,
   "id": "cafa5d9c",
   "metadata": {},
   "outputs": [],
   "source": [
    "# Extract the parameters\n",
    "a, b, c = params\n",
    "print(f\"Fitted parameters: a = {a}, b = {b}, c = {c}\")"
   ]
  },
  {
   "cell_type": "code",
   "execution_count": null,
   "id": "44605137",
   "metadata": {},
   "outputs": [],
   "source": [
    "# Generate x values for the fitted curve\n",
    "x_fit = np.linspace(x.min(), x.max(), 1000)\n",
    "x_fit_scaled = x_fit / max(x)\n",
    "y_fit_scaled = gompertz(x_fit_scaled, a, b, c)\n",
    "y_fit = y_fit_scaled * max(y)"
   ]
  },
  {
   "cell_type": "code",
   "execution_count": null,
   "id": "80d1d32c",
   "metadata": {},
   "outputs": [],
   "source": [
    "# Plot the original data and the fitted curve\n",
    "plt.figure(figsize=(10, 6))\n",
    "plt.scatter(df['Date'], y, label='Original Data')\n",
    "plt.plot(np.array(df['Date'].min() + pd.to_timedelta(x_fit, unit='D')), y_fit, color='red', label='Fitted\n",
    "Gompertz Curve')\n",
    "plt.xlabel('Date')\n",
    "plt.ylabel('Gold Price')\n",
    "plt.title('Gold Prices with Gompertz Curve Fit')\n",
    "plt.legend()\n",
    "plt.show()"
   ]
  },
  {
   "cell_type": "code",
   "execution_count": null,
   "id": "b418bf2b",
   "metadata": {},
   "outputs": [],
   "source": []
  },
  {
   "cell_type": "code",
   "execution_count": null,
   "id": "13af237f",
   "metadata": {},
   "outputs": [],
   "source": []
  },
  {
   "cell_type": "code",
   "execution_count": null,
   "id": "8dbdc535",
   "metadata": {},
   "outputs": [],
   "source": []
  },
  {
   "cell_type": "code",
   "execution_count": null,
   "id": "1b0a7d51",
   "metadata": {},
   "outputs": [],
   "source": []
  }
 ],
 "metadata": {
  "kernelspec": {
   "display_name": "Python 3 (ipykernel)",
   "language": "python",
   "name": "python3"
  },
  "language_info": {
   "codemirror_mode": {
    "name": "ipython",
    "version": 3
   },
   "file_extension": ".py",
   "mimetype": "text/x-python",
   "name": "python",
   "nbconvert_exporter": "python",
   "pygments_lexer": "ipython3",
   "version": "3.11.5"
  }
 },
 "nbformat": 4,
 "nbformat_minor": 5
}
